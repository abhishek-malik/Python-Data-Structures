{
 "cells": [
  {
   "cell_type": "code",
   "execution_count": 8,
   "metadata": {},
   "outputs": [
    {
     "name": "stdout",
     "output_type": "stream",
     "text": [
      "[1 2 3]\n",
      "<class 'numpy.ndarray'>\n"
     ]
    }
   ],
   "source": [
    "import numpy as np\n",
    "#vector initialized with small letter\n",
    "a = np.array([1, 2, 3])\n",
    "print(a)\n",
    "print(type(a))"
   ]
  },
  {
   "cell_type": "code",
   "execution_count": 9,
   "metadata": {},
   "outputs": [
    {
     "name": "stdout",
     "output_type": "stream",
     "text": [
      "[[1 2 3]\n",
      " [4 5 6]\n",
      " [7 8 9]]\n",
      "[[1. 2. 3.]\n",
      " [4. 5. 6.]\n",
      " [7. 8. 9.]]\n",
      "[[1.+0.j 2.+0.j 3.+0.j]\n",
      " [4.+0.j 5.+0.j 6.+0.j]\n",
      " [7.+0.j 8.+0.j 9.+0.j]]\n"
     ]
    }
   ],
   "source": [
    "#creating a numpy array\n",
    "#matrices initialized with capital letter\n",
    "A = np.array([[1,2,3],[4,5,6],[7,8,9]]) #array of type int\n",
    "print(A)\n",
    "\n",
    "A = np.array([[1,2,3],[4,5,6],[7,8,9]], dtype = float) #array of type float\n",
    "print(A)\n",
    "\n",
    "A = np.array([[1,2,3],[4,5,6],[7,8,9]], dtype = complex) #array of complex numbers\n",
    "print(A)"
   ]
  },
  {
   "cell_type": "code",
   "execution_count": 15,
   "metadata": {},
   "outputs": [
    {
     "name": "stdout",
     "output_type": "stream",
     "text": [
      "[[0 0 0]\n",
      " [0 0 0]]\n",
      "[[1 1 1]\n",
      " [1 1 1]]\n"
     ]
    }
   ],
   "source": [
    "#Arrays of zeros and ones\n",
    "z_array = np.zeros((2,3), dtype = int) #here default data type is float\n",
    "print(z_array)\n",
    "\n",
    "o_array = np.ones((2,3), dtype = int)\n",
    "print(o_array)"
   ]
  },
  {
   "cell_type": "code",
   "execution_count": 31,
   "metadata": {},
   "outputs": [
    {
     "name": "stdout",
     "output_type": "stream",
     "text": [
      "A = [ 0  1  2  3  4  5  6  7  8  9 10 11]\n",
      "B =  [[ 0  1  2  3]\n",
      " [ 4  5  6  7]\n",
      " [ 8  9 10 11]]\n",
      "B =  [[ 0  1  2  3  4  5]\n",
      " [ 6  7  8  9 10 11]]\n",
      "B =  [ 0  1  2  3  4  5  6  7  8  9 10 11]\n"
     ]
    }
   ],
   "source": [
    "#using arange and shape\n",
    "A = np.arange(12)\n",
    "print('A =',A)\n",
    "\n",
    "B = np.arange(12).reshape(3,4)\n",
    "print('B = ',B)\n",
    "\n",
    "#giving -1 automatically adjust the size with given number of rows\n",
    "print('B = ',B.reshape(2,-1))\n",
    "\n",
    "#given number of elements are similar\n",
    "print('B = ',B.reshape(*A.shape))"
   ]
  },
  {
   "cell_type": "code",
   "execution_count": 43,
   "metadata": {},
   "outputs": [
    {
     "name": "stdout",
     "output_type": "stream",
     "text": [
      "A + B =  [[ 2.  4.  7.]\n",
      " [10. 12. 14.]]\n",
      "A * B =  [[30. 38.]\n",
      " [66. 86.]]\n"
     ]
    }
   ],
   "source": [
    "#Adding two matrices\n",
    "A = np.array([[1,2,3],[4,5,6]], dtype = int)\n",
    "B = np.array([[1,2,4],[6,7,8]], dtype = float)\n",
    "\n",
    "C = A+B\n",
    "print(\"A + B = \",C)\n",
    "\n",
    "B1 = B.reshape(3,2)\n",
    "\n",
    "#multiplying two matrices\n",
    "C = A.dot(B1)\n",
    "print(\"A * B = \",C)"
   ]
  },
  {
   "cell_type": "code",
   "execution_count": 45,
   "metadata": {},
   "outputs": [
    {
     "name": "stdout",
     "output_type": "stream",
     "text": [
      "A =  [[1 2 3]\n",
      " [4 5 6]]\n",
      "A' =  [[1 4]\n",
      " [2 5]\n",
      " [3 6]]\n"
     ]
    }
   ],
   "source": [
    "#transpose of a matrix\n",
    "print(\"A = \",A)\n",
    "print(\"A' = \",A.transpose())"
   ]
  },
  {
   "cell_type": "code",
   "execution_count": 48,
   "metadata": {},
   "outputs": [
    {
     "name": "stdout",
     "output_type": "stream",
     "text": [
      "A =  [[1 2 3]\n",
      " [4 5 6]]\n",
      "A[0][0] =  1\n",
      "First row =  [1 2 3]\n",
      "First Column =  [1 4]\n"
     ]
    }
   ],
   "source": [
    "#Accessing elements, rows and columns of a matrix\n",
    "print(\"A = \",A)\n",
    "print(\"A[0][0] = \",A[0][0])\n",
    "\n",
    "#Accessing row\n",
    "print(\"First row = \",A[0])\n",
    "\n",
    "#Accessing column\n",
    "print(\"First Column = \",A[:,0])"
   ]
  },
  {
   "cell_type": "code",
   "execution_count": 68,
   "metadata": {},
   "outputs": [
    {
     "name": "stdout",
     "output_type": "stream",
     "text": [
      "A =  [[ 1  2  3  4  5  6]\n",
      " [ 7  8  9 10 11 12]\n",
      " [13 14 15 16 17 18]]\n",
      "3 6\n",
      "2: 4: slicing  [[17 18]]\n"
     ]
    }
   ],
   "source": [
    "#slicing a matrix\n",
    "A = np.array([[1,2,3,4,5,6],\n",
    "              [7,8,9,10,11,12],\n",
    "              [13,14,15,16,17,18]])\n",
    "print(\"A = \",A)\n",
    "print(\"2: 4: slicing \",A[2:,4:])"
   ]
  }
 ],
 "metadata": {
  "kernelspec": {
   "display_name": "Python 3",
   "language": "python",
   "name": "python3"
  },
  "language_info": {
   "codemirror_mode": {
    "name": "ipython",
    "version": 3
   },
   "file_extension": ".py",
   "mimetype": "text/x-python",
   "name": "python",
   "nbconvert_exporter": "python",
   "pygments_lexer": "ipython3",
   "version": "3.7.4"
  }
 },
 "nbformat": 4,
 "nbformat_minor": 2
}

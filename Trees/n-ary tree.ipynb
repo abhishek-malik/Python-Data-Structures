{
 "cells": [
  {
   "cell_type": "code",
   "execution_count": 8,
   "metadata": {},
   "outputs": [],
   "source": [
    "class createnode:\n",
    "    def __init__(self,val):\n",
    "       self.data=val\n",
    "       self.child=[]\n"
   ]
  },
  {
   "cell_type": "code",
   "execution_count": 9,
   "metadata": {},
   "outputs": [],
   "source": [
    "root = createnode(10)"
   ]
  },
  {
   "cell_type": "code",
   "execution_count": 10,
   "metadata": {},
   "outputs": [],
   "source": [
    "root.child.append(createnode(2))\n",
    "root.child.append(createnode(4))"
   ]
  },
  {
   "cell_type": "code",
   "execution_count": 11,
   "metadata": {},
   "outputs": [],
   "source": [
    "def traverse(node, path = []):\n",
    "    path.append(node.data)\n",
    "    if len(node.child) == 0:\n",
    "        print(path)\n",
    "        path.pop()\n",
    "    else:\n",
    "        for child in node.child:\n",
    "            traverse(child, path)\n",
    "        path.pop()"
   ]
  },
  {
   "cell_type": "code",
   "execution_count": 13,
   "metadata": {},
   "outputs": [
    {
     "name": "stdout",
     "output_type": "stream",
     "text": [
      "[10, 2]\n",
      "[10, 4]\n"
     ]
    }
   ],
   "source": [
    "traverse(root)"
   ]
  },
  {
   "cell_type": "code",
   "execution_count": 14,
   "metadata": {},
   "outputs": [],
   "source": [
    "root.child[0].child.append(createnode(15))\n",
    "root.child[0].child.append(createnode(20))\n",
    "root.child[0].child.append(createnode(25))\n",
    "root.child[0].child.append(createnode(30))"
   ]
  },
  {
   "cell_type": "code",
   "execution_count": 15,
   "metadata": {},
   "outputs": [],
   "source": [
    "root.child[1].child.append(createnode(45))\n",
    "root.child[1].child.append(createnode(50))\n",
    "root.child[1].child.append(createnode(55))\n",
    "root.child[1].child.append(createnode(60))"
   ]
  },
  {
   "cell_type": "code",
   "execution_count": 16,
   "metadata": {},
   "outputs": [
    {
     "name": "stdout",
     "output_type": "stream",
     "text": [
      "[10, 2, 15]\n",
      "[10, 2, 20]\n",
      "[10, 2, 25]\n",
      "[10, 2, 30]\n",
      "[10, 4, 45]\n",
      "[10, 4, 50]\n",
      "[10, 4, 55]\n",
      "[10, 4, 60]\n"
     ]
    }
   ],
   "source": [
    "traverse(root)"
   ]
  },
  {
   "cell_type": "code",
   "execution_count": null,
   "metadata": {},
   "outputs": [],
   "source": []
  }
 ],
 "metadata": {
  "kernelspec": {
   "display_name": "Python 3",
   "language": "python",
   "name": "python3"
  },
  "language_info": {
   "codemirror_mode": {
    "name": "ipython",
    "version": 3
   },
   "file_extension": ".py",
   "mimetype": "text/x-python",
   "name": "python",
   "nbconvert_exporter": "python",
   "pygments_lexer": "ipython3",
   "version": "3.7.4"
  }
 },
 "nbformat": 4,
 "nbformat_minor": 2
}

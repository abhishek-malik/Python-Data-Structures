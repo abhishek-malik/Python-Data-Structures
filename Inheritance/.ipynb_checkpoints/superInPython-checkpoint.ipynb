{
 "cells": [
  {
   "cell_type": "code",
   "execution_count": 8,
   "metadata": {},
   "outputs": [],
   "source": [
    "#With inheritance class inherits behaviours from previously writtern classes without needing to implement them again\n",
    "#super() returns a temporary object of a superclass that allow us to call methods from superclass into subclass\n",
    "\n",
    "class Rectangle:\n",
    "    def __init__(self, length, width):\n",
    "        self.length = length\n",
    "        self.width = width\n",
    "        \n",
    "    def getArea(self):\n",
    "        return self.length * self.width\n",
    "    \n",
    "    def getPerimeter(self):\n",
    "        return 2 * self.length + 2 * self.width\n",
    "    \n",
    "\n",
    "class Square:\n",
    "    def __init__(self,length):\n",
    "        self.length = length\n",
    "        \n",
    "    def getArea(self):\n",
    "        return self.length**2\n",
    "    \n",
    "    def getPerimeter(self):\n",
    "        return 4 * self.length"
   ]
  },
  {
   "cell_type": "code",
   "execution_count": 9,
   "metadata": {},
   "outputs": [
    {
     "name": "stdout",
     "output_type": "stream",
     "text": [
      "Area of Rectangle : 12\n",
      "Perimeter of Rectangle : 14\n"
     ]
    }
   ],
   "source": [
    "rectangleObject = Rectangle(4,3)\n",
    "print(\"Area of Rectangle :\",rectangleObject.getArea())\n",
    "print(\"Perimeter of Rectangle :\",rectangleObject.getPerimeter())"
   ]
  },
  {
   "cell_type": "code",
   "execution_count": 10,
   "metadata": {},
   "outputs": [
    {
     "name": "stdout",
     "output_type": "stream",
     "text": [
      "Area of Square : 9\n",
      "Perimeter of Square : 12\n"
     ]
    }
   ],
   "source": [
    "squareObject = Square(3)\n",
    "print(\"Area of Square :\",squareObject.getArea())\n",
    "print(\"Perimeter of Square :\",squareObject.getPerimeter())"
   ]
  },
  {
   "cell_type": "code",
   "execution_count": null,
   "metadata": {},
   "outputs": [],
   "source": []
  }
 ],
 "metadata": {
  "kernelspec": {
   "display_name": "Python 3",
   "language": "python",
   "name": "python3"
  },
  "language_info": {
   "codemirror_mode": {
    "name": "ipython",
    "version": 3
   },
   "file_extension": ".py",
   "mimetype": "text/x-python",
   "name": "python",
   "nbconvert_exporter": "python",
   "pygments_lexer": "ipython3",
   "version": "3.7.4"
  }
 },
 "nbformat": 4,
 "nbformat_minor": 2
}

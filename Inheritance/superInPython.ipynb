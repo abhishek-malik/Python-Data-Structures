{
 "cells": [
  {
   "cell_type": "code",
   "execution_count": 7,
   "metadata": {},
   "outputs": [],
   "source": [
    "#With inheritance class inherits behaviours from previously writtern classes without needing to implement them again\n",
    "#super() returns a temporary object of a superclass that allow us to call methods from superclass into subclass\n",
    "\n",
    "class Rectangle:\n",
    "    def __init__(self, length, width):\n",
    "        self.length = length\n",
    "        self.width = width\n",
    "        \n",
    "    def getArea(self):\n",
    "        return self.length * self.width\n",
    "    \n",
    "    def getPerimeter(self):\n",
    "        return 2 * self.length + 2 * self.width\n",
    "    \n",
    "\n",
    "class Square:\n",
    "    def __init__(self, length):\n",
    "        self.length = length\n",
    "        \n",
    "    def getArea(self):\n",
    "        return self.length**2\n",
    "    \n",
    "    def getPerimeter(self):\n",
    "        return 4 * self.length"
   ]
  },
  {
   "cell_type": "code",
   "execution_count": 8,
   "metadata": {},
   "outputs": [
    {
     "name": "stdout",
     "output_type": "stream",
     "text": [
      "Area of Rectangle : 12\n",
      "Perimeter of Rectangle : 14\n"
     ]
    }
   ],
   "source": [
    "rectangleObject = Rectangle(4,3)\n",
    "print(\"Area of Rectangle :\",rectangleObject.getArea())\n",
    "print(\"Perimeter of Rectangle :\",rectangleObject.getPerimeter())"
   ]
  },
  {
   "cell_type": "code",
   "execution_count": 9,
   "metadata": {},
   "outputs": [
    {
     "name": "stdout",
     "output_type": "stream",
     "text": [
      "Area of Square : 9\n",
      "Perimeter of Square : 12\n"
     ]
    }
   ],
   "source": [
    "squareObject = Square(3)\n",
    "print(\"Area of Square :\",squareObject.getArea())\n",
    "print(\"Perimeter of Square :\",squareObject.getPerimeter())"
   ]
  },
  {
   "cell_type": "code",
   "execution_count": 19,
   "metadata": {},
   "outputs": [],
   "source": [
    "#with inheritance we can reduce the amount of code we need to write in both the classes\n",
    "#Inheriting Rectangle class in Square class and using super() to call the __init__() of Rectangle class\n",
    "class Square(Rectangle):\n",
    "    def __init__(self, length):\n",
    "        super().__init__(length,length)\n",
    "#         super(Square,self).__init__(length,length)"
   ]
  },
  {
   "cell_type": "code",
   "execution_count": 20,
   "metadata": {},
   "outputs": [
    {
     "name": "stdout",
     "output_type": "stream",
     "text": [
      "Area of Square : 16\n"
     ]
    }
   ],
   "source": [
    "squareObject = Square(4)\n",
    "print(\"Area of Square :\",squareObject.getArea())"
   ]
  },
  {
   "cell_type": "code",
   "execution_count": 21,
   "metadata": {},
   "outputs": [],
   "source": [
    "class Cube(Square):\n",
    "#     __init__() is not defined here because it'll be same as the class it is inheriting from i.e. Square class, hence skipped.\n",
    "    def getsurfaceArea(self):\n",
    "        faceArea = super().getArea()\n",
    "#         faceArea = super(Square,self).getArea()\n",
    "        return 6 * faceArea\n",
    "    \n",
    "    def getVolume(self):\n",
    "        faceArea = super().getArea()\n",
    "#         faceArea = super(Square,self).getArea()\n",
    "#super() returns a proxy object that delegates calls to the correct class methods without making an additional object.\n",
    "        return self.length * faceArea"
   ]
  },
  {
   "cell_type": "code",
   "execution_count": 22,
   "metadata": {},
   "outputs": [
    {
     "name": "stdout",
     "output_type": "stream",
     "text": [
      "Volume of Cube : 27\n"
     ]
    }
   ],
   "source": [
    "cubeObject = Cube(3)\n",
    "print(\"Volume of Cube :\",cubeObject.getVolume())"
   ]
  },
  {
   "cell_type": "code",
   "execution_count": null,
   "metadata": {},
   "outputs": [],
   "source": []
  }
 ],
 "metadata": {
  "kernelspec": {
   "display_name": "Python 3",
   "language": "python",
   "name": "python3"
  },
  "language_info": {
   "codemirror_mode": {
    "name": "ipython",
    "version": 3
   },
   "file_extension": ".py",
   "mimetype": "text/x-python",
   "name": "python",
   "nbconvert_exporter": "python",
   "pygments_lexer": "ipython3",
   "version": "3.7.4"
  }
 },
 "nbformat": 4,
 "nbformat_minor": 2
}

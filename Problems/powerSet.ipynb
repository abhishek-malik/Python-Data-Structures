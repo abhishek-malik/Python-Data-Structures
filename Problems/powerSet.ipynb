{
 "cells": [
  {
   "cell_type": "code",
   "execution_count": 7,
   "metadata": {},
   "outputs": [],
   "source": [
    "#Iterative solution\n",
    "#O(n*2^n)\n",
    "def powerSet(customList):\n",
    "    subset = [[]]\n",
    "    for x in customList:\n",
    "        for y in range(len(subset)):\n",
    "            currentSubset = subset[y]\n",
    "            subset.append(currentSubset + [x])\n",
    "    \n",
    "    return subset"
   ]
  },
  {
   "cell_type": "code",
   "execution_count": 8,
   "metadata": {},
   "outputs": [
    {
     "name": "stdout",
     "output_type": "stream",
     "text": [
      "[[], [1], [2], [1, 2], [3], [1, 3], [2, 3], [1, 2, 3]]\n"
     ]
    }
   ],
   "source": [
    "print(powerSet([1,2,3]))"
   ]
  },
  {
   "cell_type": "code",
   "execution_count": 15,
   "metadata": {},
   "outputs": [
    {
     "name": "stdout",
     "output_type": "stream",
     "text": [
      "[[], [3], [2], [2, 3], [1], [1, 3], [1, 2], [1, 2, 3]]\n"
     ]
    }
   ],
   "source": [
    "def recursivePowerSet(customList, subset, n):\n",
    "#     TODO\n",
    "    if n == len(customList):\n",
    "        return\n",
    "    \n",
    "    recursivePowerSet(customList,subset,n+1)\n",
    "    for x in range(len(subset)):\n",
    "        subset.append([customList[n]] + subset[x]) \n",
    "    \n",
    "\n",
    "subset = [[]]\n",
    "recursivePowerSet([1,2,3],subset,0)\n",
    "print(subset)"
   ]
  }
 ],
 "metadata": {
  "kernelspec": {
   "display_name": "Python 3",
   "language": "python",
   "name": "python3"
  },
  "language_info": {
   "codemirror_mode": {
    "name": "ipython",
    "version": 3
   },
   "file_extension": ".py",
   "mimetype": "text/x-python",
   "name": "python",
   "nbconvert_exporter": "python",
   "pygments_lexer": "ipython3",
   "version": "3.7.4"
  }
 },
 "nbformat": 4,
 "nbformat_minor": 2
}

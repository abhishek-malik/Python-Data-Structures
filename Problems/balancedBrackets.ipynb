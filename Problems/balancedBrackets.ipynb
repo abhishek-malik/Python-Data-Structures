{
 "cells": [
  {
   "cell_type": "code",
   "execution_count": 6,
   "metadata": {},
   "outputs": [],
   "source": [
    "# (()][]{}) - correct\n",
    "# [(]) - incorrect\n",
    "def balancedBrackets(bracketString):\n",
    "    brackets = {\")\":\"(\",\"}\":\"{\",\"]\":\"[\"}\n",
    "    stack = []\n",
    "    for x in bracketString:\n",
    "        if x in brackets.values():\n",
    "            stack.append(x)\n",
    "        elif x in brackets.keys():\n",
    "            if len(x) == 0:\n",
    "                return false\n",
    "            elif stack[-1] == brackets[x]:\n",
    "                stack.pop()\n",
    "            else:\n",
    "                return false\n",
    "    return len(stack) == 0"
   ]
  },
  {
   "cell_type": "code",
   "execution_count": 7,
   "metadata": {},
   "outputs": [
    {
     "data": {
      "text/plain": [
       "True"
      ]
     },
     "execution_count": 7,
     "metadata": {},
     "output_type": "execute_result"
    }
   ],
   "source": [
    "balancedBrackets(\"{}()\")"
   ]
  }
 ],
 "metadata": {
  "kernelspec": {
   "display_name": "Python 3",
   "language": "python",
   "name": "python3"
  },
  "language_info": {
   "codemirror_mode": {
    "name": "ipython",
    "version": 3
   },
   "file_extension": ".py",
   "mimetype": "text/x-python",
   "name": "python",
   "nbconvert_exporter": "python",
   "pygments_lexer": "ipython3",
   "version": "3.7.4"
  }
 },
 "nbformat": 4,
 "nbformat_minor": 2
}

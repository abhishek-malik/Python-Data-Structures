{
 "cells": [
  {
   "cell_type": "code",
   "execution_count": 60,
   "metadata": {},
   "outputs": [],
   "source": [
    "sortedMatrix = [ [10, 20, 30, 40], \n",
    "        [15, 25, 35, 45], \n",
    "        [27, 29, 37, 48], \n",
    "        [32, 33, 39, 50] ] "
   ]
  },
  {
   "cell_type": "code",
   "execution_count": 63,
   "metadata": {},
   "outputs": [
    {
     "name": "stdout",
     "output_type": "stream",
     "text": [
      "[[10 20 30 40]\n",
      " [15 25 35 45]\n",
      " [27 29 37 48]\n",
      " [32 33 39 50]]\n"
     ]
    }
   ],
   "source": [
    "from numpy import matrix\n",
    "print(matrix(sortedMatrix))"
   ]
  },
  {
   "cell_type": "code",
   "execution_count": 64,
   "metadata": {},
   "outputs": [],
   "source": [
    "def searchInSortedMatrix(num, row, col):\n",
    "    global sortedMatrix\n",
    "    \n",
    "    if row >= len(sortedMatrix) or col >= len(sortedMatrix[0]):\n",
    "        return\n",
    "    \n",
    "    if sortedMatrix[row][col] == num :\n",
    "        print(row, col)\n",
    "        return\n",
    "    \n",
    "    elif sortedMatrix[row][col] < num:\n",
    "        searchInSortedMatrix(num, row + 1, col)\n",
    "    \n",
    "    else:\n",
    "        searchInSortedMatrix(num, row, col - 1)"
   ]
  },
  {
   "cell_type": "code",
   "execution_count": 65,
   "metadata": {},
   "outputs": [
    {
     "name": "stdout",
     "output_type": "stream",
     "text": [
      "2 3\n"
     ]
    }
   ],
   "source": [
    "row = 0\n",
    "col = len(sortedMatrix[0]) - 1\n",
    "searchInSortedMatrix(48, row, col)"
   ]
  }
 ],
 "metadata": {
  "kernelspec": {
   "display_name": "Python 3",
   "language": "python",
   "name": "python3"
  },
  "language_info": {
   "codemirror_mode": {
    "name": "ipython",
    "version": 3
   },
   "file_extension": ".py",
   "mimetype": "text/x-python",
   "name": "python",
   "nbconvert_exporter": "python",
   "pygments_lexer": "ipython3",
   "version": "3.7.4"
  }
 },
 "nbformat": 4,
 "nbformat_minor": 2
}

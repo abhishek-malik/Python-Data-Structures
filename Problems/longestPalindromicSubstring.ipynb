{
 "cells": [
  {
   "cell_type": "code",
   "execution_count": 11,
   "metadata": {},
   "outputs": [],
   "source": [
    "def getLongestPalindromicSubstring(string):\n",
    "    #initially the first element is the longest substring\n",
    "    currentLongest = [0,1]\n",
    "    \n",
    "    for i in range(1, len(string)):\n",
    "        #we can either have odd palindrome or even palindrome\n",
    "        oddPalindrome = getPalindrome(string, i-1, i+1)\n",
    "        evenPalindrome = getPalindrome(string, i-1, i)\n",
    "        \n",
    "        #get the longest of the above two obtained palindromes\n",
    "        longestPalindrome = max(oddPalindrome, evenPalindrome, key=lambda x : x[1] - x[0])\n",
    "        #update currenlongest\n",
    "        currentLongest = max(longestPalindrome, currentLongest, key=lambda x : x[1] - x[0])\n",
    "        \n",
    "    return string[currentLongest[0]:currentLongest[1]]"
   ]
  },
  {
   "cell_type": "code",
   "execution_count": 12,
   "metadata": {},
   "outputs": [],
   "source": [
    "def getPalindrome(string, i, j):\n",
    "    while(i >= 0 and j < len(string)):\n",
    "        if(string[i] != string[j]):\n",
    "            break\n",
    "        \n",
    "        i=i-1\n",
    "        j=j+1\n",
    "    return [i+1, j]"
   ]
  },
  {
   "cell_type": "code",
   "execution_count": 14,
   "metadata": {},
   "outputs": [
    {
     "name": "stdout",
     "output_type": "stream",
     "text": [
      "abaaaba\n"
     ]
    }
   ],
   "source": [
    "print(getLongestPalindromicSubstring(\"abaaabaxzzz\"))"
   ]
  },
  {
   "cell_type": "code",
   "execution_count": null,
   "metadata": {},
   "outputs": [],
   "source": []
  }
 ],
 "metadata": {
  "kernelspec": {
   "display_name": "Python 3",
   "language": "python",
   "name": "python3"
  },
  "language_info": {
   "codemirror_mode": {
    "name": "ipython",
    "version": 3
   },
   "file_extension": ".py",
   "mimetype": "text/x-python",
   "name": "python",
   "nbconvert_exporter": "python",
   "pygments_lexer": "ipython3",
   "version": "3.7.4"
  }
 },
 "nbformat": 4,
 "nbformat_minor": 2
}

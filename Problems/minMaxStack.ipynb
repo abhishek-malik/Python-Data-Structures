{
 "cells": [
  {
   "cell_type": "code",
   "execution_count": 7,
   "metadata": {},
   "outputs": [],
   "source": [
    "class MinMaxStack:\n",
    "    def __init__(self):\n",
    "        self.helperStack = []\n",
    "        self.stack = []\n",
    "        \n",
    "    def peek(self):\n",
    "        return self.stack[len(self.stack) - 1]\n",
    "    \n",
    "    def pop(self):\n",
    "        self.helperStack.pop()\n",
    "        return self.stack.pop()\n",
    "    \n",
    "    def push(self, num):\n",
    "        newMinMax = {\"min\": num, \"max\": num}\n",
    "        if len(self.helperStack):\n",
    "            prevMinMax = self.helperStack[len(self.helperStack) - 1]\n",
    "            newMinMax[\"min\"] = min(prevMinMax[\"min\"], num)\n",
    "            newMinMax[\"max\"] = max(prevMinMax[\"max\"], num)\n",
    "        \n",
    "        self.helperStack.append(newMinMax)\n",
    "        self.stack.append(num)\n",
    "    \n",
    "    def getMin(self):\n",
    "        return self.helperStack[len(self.helperStack) - 1][\"min\"]\n",
    "    \n",
    "    def getMax(self):\n",
    "        return self.helperStack[len(self.helperStack) - 1][\"max\"]"
   ]
  },
  {
   "cell_type": "code",
   "execution_count": 10,
   "metadata": {},
   "outputs": [],
   "source": [
    "minMaxStackObj = MinMaxStack()\n",
    "minMaxStackObj.push(3)\n",
    "minMaxStackObj.push(7)\n",
    "minMaxStackObj.push(2)\n",
    "minMaxStackObj.push(1)\n",
    "minMaxStackObj.push(2)"
   ]
  },
  {
   "cell_type": "code",
   "execution_count": 11,
   "metadata": {},
   "outputs": [
    {
     "data": {
      "text/plain": [
       "1"
      ]
     },
     "execution_count": 11,
     "metadata": {},
     "output_type": "execute_result"
    }
   ],
   "source": [
    "minMaxStackObj.getMin()"
   ]
  },
  {
   "cell_type": "code",
   "execution_count": 12,
   "metadata": {},
   "outputs": [
    {
     "data": {
      "text/plain": [
       "7"
      ]
     },
     "execution_count": 12,
     "metadata": {},
     "output_type": "execute_result"
    }
   ],
   "source": [
    "minMaxStackObj.getMax()"
   ]
  },
  {
   "cell_type": "code",
   "execution_count": 13,
   "metadata": {},
   "outputs": [
    {
     "data": {
      "text/plain": [
       "2"
      ]
     },
     "execution_count": 13,
     "metadata": {},
     "output_type": "execute_result"
    }
   ],
   "source": [
    "minMaxStackObj.peek()"
   ]
  },
  {
   "cell_type": "code",
   "execution_count": 14,
   "metadata": {},
   "outputs": [
    {
     "data": {
      "text/plain": [
       "2"
      ]
     },
     "execution_count": 14,
     "metadata": {},
     "output_type": "execute_result"
    }
   ],
   "source": [
    "minMaxStackObj.pop()"
   ]
  },
  {
   "cell_type": "code",
   "execution_count": 15,
   "metadata": {},
   "outputs": [
    {
     "data": {
      "text/plain": [
       "1"
      ]
     },
     "execution_count": 15,
     "metadata": {},
     "output_type": "execute_result"
    }
   ],
   "source": [
    "minMaxStackObj.peek()"
   ]
  }
 ],
 "metadata": {
  "kernelspec": {
   "display_name": "Python 3",
   "language": "python",
   "name": "python3"
  },
  "language_info": {
   "codemirror_mode": {
    "name": "ipython",
    "version": 3
   },
   "file_extension": ".py",
   "mimetype": "text/x-python",
   "name": "python",
   "nbconvert_exporter": "python",
   "pygments_lexer": "ipython3",
   "version": "3.7.4"
  }
 },
 "nbformat": 4,
 "nbformat_minor": 2
}

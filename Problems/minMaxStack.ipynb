{
 "cells": [
  {
   "cell_type": "code",
   "execution_count": 16,
   "metadata": {},
   "outputs": [],
   "source": [
    "class MinMaxStack:\n",
    "    def __init__(self):\n",
    "        self.helperStack = []\n",
    "        self.stack = []\n",
    "        \n",
    "    def peek(self):\n",
    "        return self.stack[len(self.stack) - 1]\n",
    "    \n",
    "    def pop(self):\n",
    "        self.helperStack.pop()\n",
    "        return self.stack.pop()\n",
    "    \n",
    "    def push(self, num):\n",
    "        newMinMax = {\"min\": num, \"max\": num}\n",
    "        if len(self.helperStack):\n",
    "            prevMinMax = self.helperStack[len(self.helperStack) - 1]\n",
    "            newMinMax[\"min\"] = min(prevMinMax[\"min\"], num)\n",
    "            newMinMax[\"max\"] = max(prevMinMax[\"max\"], num)\n",
    "        \n",
    "        self.helperStack.append(newMinMax)\n",
    "        self.stack.append(num)\n",
    "    \n",
    "    def getMin(self):\n",
    "        return self.helperStack[len(self.helperStack) - 1][\"min\"]\n",
    "    \n",
    "    def getMax(self):\n",
    "        return self.helperStack[len(self.helperStack) - 1][\"max\"]"
   ]
  },
  {
   "cell_type": "code",
   "execution_count": 17,
   "metadata": {},
   "outputs": [],
   "source": [
    "minMaxStackObj = MinMaxStack()\n",
    "minMaxStackObj.push(3)\n",
    "minMaxStackObj.push(7)\n",
    "minMaxStackObj.push(2)\n",
    "minMaxStackObj.push(1)\n",
    "minMaxStackObj.push(2)"
   ]
  },
  {
   "cell_type": "code",
   "execution_count": 18,
   "metadata": {},
   "outputs": [
    {
     "data": {
      "text/plain": [
       "1"
      ]
     },
     "execution_count": 18,
     "metadata": {},
     "output_type": "execute_result"
    }
   ],
   "source": [
    "minMaxStackObj.getMin()"
   ]
  },
  {
   "cell_type": "code",
   "execution_count": 19,
   "metadata": {},
   "outputs": [
    {
     "data": {
      "text/plain": [
       "7"
      ]
     },
     "execution_count": 19,
     "metadata": {},
     "output_type": "execute_result"
    }
   ],
   "source": [
    "minMaxStackObj.getMax()"
   ]
  },
  {
   "cell_type": "code",
   "execution_count": 20,
   "metadata": {},
   "outputs": [
    {
     "data": {
      "text/plain": [
       "2"
      ]
     },
     "execution_count": 20,
     "metadata": {},
     "output_type": "execute_result"
    }
   ],
   "source": [
    "minMaxStackObj.peek()"
   ]
  },
  {
   "cell_type": "code",
   "execution_count": 21,
   "metadata": {},
   "outputs": [
    {
     "data": {
      "text/plain": [
       "2"
      ]
     },
     "execution_count": 21,
     "metadata": {},
     "output_type": "execute_result"
    }
   ],
   "source": [
    "minMaxStackObj.pop()"
   ]
  },
  {
   "cell_type": "code",
   "execution_count": 22,
   "metadata": {},
   "outputs": [
    {
     "data": {
      "text/plain": [
       "1"
      ]
     },
     "execution_count": 22,
     "metadata": {},
     "output_type": "execute_result"
    }
   ],
   "source": [
    "minMaxStackObj.peek()"
   ]
  },
  {
   "cell_type": "code",
   "execution_count": 31,
   "metadata": {},
   "outputs": [],
   "source": [
    "class Stack:\n",
    "    def __init__(self):\n",
    "        self.stack = []\n",
    "        \n",
    "    def push(self, num):\n",
    "        self.stack.append(num)\n",
    "    \n",
    "    def pop(self):\n",
    "        return self.stack.pop()\n",
    "    \n",
    "    def peek(self):\n",
    "        return self.stack[len(self.stack) - 1]\n"
   ]
  },
  {
   "cell_type": "code",
   "execution_count": 51,
   "metadata": {},
   "outputs": [],
   "source": [
    "class MinMaxStack(Stack):\n",
    "    def __init__(self):\n",
    "        self.minMaxStack = []\n",
    "        super().__init__()\n",
    "    \n",
    "    def push(self, num):\n",
    "        newMinMax = {\"min\" : num, \"max\": num}\n",
    "        if len(self.minMaxStack):\n",
    "            prevMinMax = self.minMaxStack[len(self.minMaxStack) - 1]\n",
    "            newMinMax[\"min\"] = min(prevMinMax[\"min\"], num)\n",
    "            newMinMax[\"max\"] = max(prevMinMax[\"max\"], num)\n",
    "        \n",
    "        self.minMaxStack.append(newMinMax)\n",
    "        super().push(num)\n",
    "    \n",
    "    def pop(self):\n",
    "        self.minMaxStack.pop()\n",
    "        return super().pop()\n",
    "        \n",
    "    def peek(self):\n",
    "#         pass\n",
    "        return super().peek()\n",
    "        \n",
    "    def getMax(self):\n",
    "        return self.minMaxStack[len(self.minMaxStack) - 1][\"max\"]\n",
    "    \n",
    "    def getMin(self):\n",
    "        return self.minMaxStack[len(minMaxStack) - 1][\"min\"]"
   ]
  },
  {
   "cell_type": "code",
   "execution_count": 52,
   "metadata": {},
   "outputs": [],
   "source": [
    "minMaxStackObj = MinMaxStack()\n",
    "minMaxStackObj.push(3)\n",
    "minMaxStackObj.push(7)\n",
    "minMaxStackObj.push(2)\n",
    "minMaxStackObj.push(1)\n",
    "minMaxStackObj.push(2)"
   ]
  },
  {
   "cell_type": "code",
   "execution_count": 53,
   "metadata": {},
   "outputs": [
    {
     "data": {
      "text/plain": [
       "2"
      ]
     },
     "execution_count": 53,
     "metadata": {},
     "output_type": "execute_result"
    }
   ],
   "source": [
    "minMaxStackObj.peek()"
   ]
  },
  {
   "cell_type": "code",
   "execution_count": 54,
   "metadata": {},
   "outputs": [
    {
     "data": {
      "text/plain": [
       "2"
      ]
     },
     "execution_count": 54,
     "metadata": {},
     "output_type": "execute_result"
    }
   ],
   "source": [
    "minMaxStackObj.pop()"
   ]
  },
  {
   "cell_type": "code",
   "execution_count": 55,
   "metadata": {},
   "outputs": [
    {
     "data": {
      "text/plain": [
       "1"
      ]
     },
     "execution_count": 55,
     "metadata": {},
     "output_type": "execute_result"
    }
   ],
   "source": [
    "minMaxStackObj.pop()"
   ]
  },
  {
   "cell_type": "code",
   "execution_count": 56,
   "metadata": {},
   "outputs": [
    {
     "data": {
      "text/plain": [
       "2"
      ]
     },
     "execution_count": 56,
     "metadata": {},
     "output_type": "execute_result"
    }
   ],
   "source": [
    "minMaxStackObj.peek()"
   ]
  },
  {
   "cell_type": "code",
   "execution_count": null,
   "metadata": {},
   "outputs": [],
   "source": []
  }
 ],
 "metadata": {
  "kernelspec": {
   "display_name": "Python 3",
   "language": "python",
   "name": "python3"
  },
  "language_info": {
   "codemirror_mode": {
    "name": "ipython",
    "version": 3
   },
   "file_extension": ".py",
   "mimetype": "text/x-python",
   "name": "python",
   "nbconvert_exporter": "python",
   "pygments_lexer": "ipython3",
   "version": "3.7.4"
  }
 },
 "nbformat": 4,
 "nbformat_minor": 2
}

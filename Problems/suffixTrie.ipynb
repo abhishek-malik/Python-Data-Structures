{
 "cells": [
  {
   "cell_type": "code",
   "execution_count": 7,
   "metadata": {},
   "outputs": [],
   "source": [
    "class SuffixTrie:\n",
    "    def __init__(self, string):\n",
    "        self.root = {}\n",
    "        self.endSymbol = \"*\"\n",
    "        self.startingIndexOfSuffix(string)\n",
    "    \n",
    "    def startingIndexOfSuffix(self, string):\n",
    "        for x in range(len(string)):\n",
    "            self.addFromGivenIndex(string,x)\n",
    "    \n",
    "    def addFromGivenIndex(self, string,i):\n",
    "        node = self.root\n",
    "        for x in range(i,len(string)):\n",
    "            currentLetter = string[x]\n",
    "            if currentLetter not in node:\n",
    "                node[currentLetter] = {}\n",
    "            node = node[currentLetter]\n",
    "        node[self.endSymbol] = True\n",
    "    \n",
    "    def contains(self, string):\n",
    "        node = self.root\n",
    "        for letter in string:\n",
    "            if letter not in node:\n",
    "                return False\n",
    "            node = node[letter]\n",
    "            \n",
    "        return self.endSymbol in node"
   ]
  },
  {
   "cell_type": "code",
   "execution_count": 8,
   "metadata": {},
   "outputs": [],
   "source": [
    "sfTrie = SuffixTrie(\"babc\")"
   ]
  },
  {
   "cell_type": "code",
   "execution_count": 14,
   "metadata": {},
   "outputs": [
    {
     "name": "stdout",
     "output_type": "stream",
     "text": [
      "True\n"
     ]
    }
   ],
   "source": [
    "print(sfTrie.contains(\"bc\"))"
   ]
  },
  {
   "cell_type": "code",
   "execution_count": null,
   "metadata": {},
   "outputs": [],
   "source": []
  }
 ],
 "metadata": {
  "kernelspec": {
   "display_name": "Python 3",
   "language": "python",
   "name": "python3"
  },
  "language_info": {
   "codemirror_mode": {
    "name": "ipython",
    "version": 3
   },
   "file_extension": ".py",
   "mimetype": "text/x-python",
   "name": "python",
   "nbconvert_exporter": "python",
   "pygments_lexer": "ipython3",
   "version": "3.7.4"
  }
 },
 "nbformat": 4,
 "nbformat_minor": 2
}

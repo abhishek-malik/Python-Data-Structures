{
 "cells": [
  {
   "cell_type": "code",
   "execution_count": 1,
   "metadata": {},
   "outputs": [],
   "source": [
    "#nth fibonacci number\n",
    "def getFibonacci(n):\n",
    "    a = 0\n",
    "    b = 1\n",
    "    c = a+b\n",
    "    if n == 0:\n",
    "        return\n",
    "    elif n == 1:\n",
    "        return a\n",
    "    elif n == 2:\n",
    "        return b\n",
    "    else:\n",
    "        for x in range(2,n):\n",
    "            c = a+b\n",
    "            a = b\n",
    "            b = c\n",
    "        return c"
   ]
  },
  {
   "cell_type": "code",
   "execution_count": 22,
   "metadata": {},
   "outputs": [
    {
     "name": "stdout",
     "output_type": "stream",
     "text": [
      "89\n"
     ]
    }
   ],
   "source": [
    "res = getFibonacci(12)\n",
    "print(res)"
   ]
  },
  {
   "cell_type": "code",
   "execution_count": 25,
   "metadata": {},
   "outputs": [],
   "source": [
    "def getFibonacciMem(n, memoize = {1:0,2:1}):   \n",
    "    if n == 0:\n",
    "        return\n",
    "    \n",
    "    elif n in memoize:\n",
    "        return memoize[n]\n",
    "    \n",
    "    else:\n",
    "        memoize[n] = getFibonacciMem(n-1, memoize) + getFibonacciMem(n-2, memoize) \n",
    "        return memoize[n]"
   ]
  },
  {
   "cell_type": "code",
   "execution_count": 26,
   "metadata": {},
   "outputs": [
    {
     "name": "stdout",
     "output_type": "stream",
     "text": [
      "89\n"
     ]
    }
   ],
   "source": [
    "res = getFibonacciMem(12)\n",
    "print(res)"
   ]
  }
 ],
 "metadata": {
  "kernelspec": {
   "display_name": "Python 3",
   "language": "python",
   "name": "python3"
  },
  "language_info": {
   "codemirror_mode": {
    "name": "ipython",
    "version": 3
   },
   "file_extension": ".py",
   "mimetype": "text/x-python",
   "name": "python",
   "nbconvert_exporter": "python",
   "pygments_lexer": "ipython3",
   "version": "3.7.4"
  }
 },
 "nbformat": 4,
 "nbformat_minor": 2
}

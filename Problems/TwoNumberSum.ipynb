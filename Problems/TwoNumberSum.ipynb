{
 "cells": [
  {
   "cell_type": "code",
   "execution_count": 8,
   "metadata": {},
   "outputs": [
    {
     "name": "stdout",
     "output_type": "stream",
     "text": [
      "(11, 3)\n"
     ]
    }
   ],
   "source": [
    "#two number sum\n",
    "def twoNumberSum(numbers, sum):\n",
    "    alreadyPresentNumbers = {}\n",
    "    for x in numbers:\n",
    "        if (sum-x) in alreadyPresentNumbers:\n",
    "            return (x,sum-x)\n",
    "        alreadyPresentNumbers[x] = True\n",
    "    return 0\n",
    "\n",
    "\n",
    "numbers = [3,5,-4,8,11,1,-1,6]\n",
    "sum = 14\n",
    "\n",
    "if twoNumberSum(numbers,sum) is not 0:\n",
    "    print(twoNumberSum(numbers,sum))\n",
    "else:\n",
    "    print(\"Could not find numbers that satisfy the sum\")"
   ]
  },
  {
   "cell_type": "code",
   "execution_count": null,
   "metadata": {},
   "outputs": [],
   "source": []
  }
 ],
 "metadata": {
  "kernelspec": {
   "display_name": "Python 3",
   "language": "python",
   "name": "python3"
  },
  "language_info": {
   "codemirror_mode": {
    "name": "ipython",
    "version": 3
   },
   "file_extension": ".py",
   "mimetype": "text/x-python",
   "name": "python",
   "nbconvert_exporter": "python",
   "pygments_lexer": "ipython3",
   "version": "3.7.4"
  }
 },
 "nbformat": 4,
 "nbformat_minor": 2
}

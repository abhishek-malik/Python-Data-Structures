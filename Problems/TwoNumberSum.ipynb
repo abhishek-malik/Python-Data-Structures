{
 "cells": [
  {
   "cell_type": "code",
   "execution_count": 2,
   "metadata": {},
   "outputs": [
    {
     "name": "stdout",
     "output_type": "stream",
     "text": [
      "[(3, 11), (8, 6)]\n"
     ]
    }
   ],
   "source": [
    "#two number sum using dict\n",
    "def twoNumberSum(numbers, sum):\n",
    "    alreadyPresentNumbers = {}\n",
    "    pairList = []\n",
    "    for x in numbers:\n",
    "        if (sum-x) in alreadyPresentNumbers:\n",
    "            pairList.append((sum-x,x))\n",
    "        alreadyPresentNumbers[x] = True\n",
    "    return pairList\n",
    "\n",
    "\n",
    "numbers = [3,5,-4,8,11,1,-1,6]\n",
    "sum = 14\n",
    "\n",
    "if twoNumberSum(numbers,sum):\n",
    "    print(twoNumberSum(numbers,sum))\n",
    "else:\n",
    "    print(\"Could not find the matching two sum in the given array\")"
   ]
  },
  {
   "cell_type": "code",
   "execution_count": 4,
   "metadata": {},
   "outputs": [
    {
     "name": "stdout",
     "output_type": "stream",
     "text": [
      "(3, 11)\n"
     ]
    }
   ],
   "source": [
    "#two number sum using indices\n",
    "def twoNumberSumNew(numbers,sum):\n",
    "    numbers.sort()\n",
    "    startIndex = 0\n",
    "    endIndex = len(numbers) - 1\n",
    "    for x in range(len(numbers)):\n",
    "        if(numbers[startIndex] + numbers[endIndex] > sum):\n",
    "            endIndex -= 1\n",
    "        elif (numbers[startIndex] + numbers[endIndex] < sum):\n",
    "            startIndex += 1\n",
    "        elif startIndex is not endIndex:\n",
    "            return (numbers[startIndex],numbers[endIndex])\n",
    "    return ()\n",
    "            \n",
    "if twoNumberSumNew(numbers,sum):\n",
    "    print(twoNumberSumNew(numbers,sum))\n",
    "else:\n",
    "    print(\"Could not find the matching two sum in the given array\")"
   ]
  },
  {
   "cell_type": "code",
   "execution_count": null,
   "metadata": {},
   "outputs": [],
   "source": []
  }
 ],
 "metadata": {
  "kernelspec": {
   "display_name": "Python 3",
   "language": "python",
   "name": "python3"
  },
  "language_info": {
   "codemirror_mode": {
    "name": "ipython",
    "version": 3
   },
   "file_extension": ".py",
   "mimetype": "text/x-python",
   "name": "python",
   "nbconvert_exporter": "python",
   "pygments_lexer": "ipython3",
   "version": "3.7.4"
  }
 },
 "nbformat": 4,
 "nbformat_minor": 2
}

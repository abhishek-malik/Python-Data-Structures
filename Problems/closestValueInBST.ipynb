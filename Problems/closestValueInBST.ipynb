{
 "cells": [
  {
   "cell_type": "code",
   "execution_count": 51,
   "metadata": {},
   "outputs": [
    {
     "name": "stdout",
     "output_type": "stream",
     "text": [
      "2\n",
      "7\n",
      "9\n",
      "10\n",
      "15\n",
      "23\n"
     ]
    }
   ],
   "source": [
    "#Obtaining the closest value to a given number in a bst\n",
    "#creating the bst\n",
    "\n",
    "class Node(object):\n",
    "    def __init__(self, root):\n",
    "        self.root = root\n",
    "        self.left = None\n",
    "        self.right = None\n",
    "        \n",
    "    def getRootValue(self):\n",
    "        return self.root\n",
    "\n",
    "    def setRootValue(self, value):\n",
    "        self.root = value\n",
    "        \n",
    "    def getLeftChild(self):\n",
    "        return self.left\n",
    "    \n",
    "    def getRightChild(self):\n",
    "        return self.right\n",
    "    \n",
    "    def insertValues(self, value):\n",
    "        if self.root < value:\n",
    "            if self.right == None:\n",
    "                self.right = Node(value)\n",
    "            else:\n",
    "                self.getRightChild().insertValues(value)\n",
    "        \n",
    "        elif self.root > value:\n",
    "            if self.left == None:\n",
    "                self.left = Node(value)\n",
    "            else:\n",
    "                self.getLeftChild().insertValues(value)\n",
    "    \n",
    "    def inOrder(self):\n",
    "        if self.root != None:\n",
    "            if self.left is not None:\n",
    "                self.getLeftChild().inOrder()\n",
    "            print(self.root)\n",
    "            if self.right is not None:\n",
    "                self.getRightChild().inOrder()\n",
    "        \n",
    "            \n",
    "root = Node(5)\n",
    "root.setRootValue(10)\n",
    "root.getRootValue()\n",
    "root.insertValues(15)\n",
    "root.insertValues(7)\n",
    "root.insertValues(2)\n",
    "root.insertValues(9)\n",
    "root.insertValues(23)\n",
    "root.inOrder()\n",
    "#root.getRightChild()"
   ]
  },
  {
   "cell_type": "code",
   "execution_count": 112,
   "metadata": {},
   "outputs": [
    {
     "name": "stdout",
     "output_type": "stream",
     "text": [
      "10\n"
     ]
    }
   ],
   "source": [
    "number = 11\n",
    "closestValue = root.getRootValue()\n",
    "def getClosestInBST(root, number, closestValue):\n",
    "    if root == None:\n",
    "        return closestValue\n",
    "    \n",
    "    if abs(root.getRootValue()-number) < abs(number-closestValue):\n",
    "        closestValue = root.getRootValue()\n",
    "        \n",
    "    if root.getRootValue() == number:\n",
    "        return root.getRootValue()\n",
    "    \n",
    "    elif root.getRootValue() < number:\n",
    "        return getClosestInBST(root.getRightChild(),number,closestValue)\n",
    "    \n",
    "    elif root.getRootValue() > number:\n",
    "        return getClosestInBST(root.getLeftChild(),number,closestValue)\n",
    "        \n",
    "        \n",
    "print(getClosestInBST(root,number,closestValue)) "
   ]
  },
  {
   "cell_type": "code",
   "execution_count": null,
   "metadata": {},
   "outputs": [],
   "source": []
  }
 ],
 "metadata": {
  "kernelspec": {
   "display_name": "Python 3",
   "language": "python",
   "name": "python3"
  },
  "language_info": {
   "codemirror_mode": {
    "name": "ipython",
    "version": 3
   },
   "file_extension": ".py",
   "mimetype": "text/x-python",
   "name": "python",
   "nbconvert_exporter": "python",
   "pygments_lexer": "ipython3",
   "version": "3.7.4"
  }
 },
 "nbformat": 4,
 "nbformat_minor": 2
}

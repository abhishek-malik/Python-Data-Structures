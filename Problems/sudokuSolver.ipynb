{
 "cells": [
  {
   "cell_type": "code",
   "execution_count": 4,
   "metadata": {},
   "outputs": [
    {
     "name": "stdout",
     "output_type": "stream",
     "text": [
      "[[3, 0, 6, 5, 0, 8, 4, 0, 0], [5, 2, 0, 0, 0, 0, 0, 0, 0], [0, 8, 7, 0, 0, 0, 0, 3, 1], [0, 0, 3, 0, 1, 0, 0, 8, 0], [9, 0, 0, 8, 6, 3, 0, 0, 5], [0, 5, 0, 0, 9, 0, 6, 0, 0], [1, 3, 0, 0, 0, 0, 2, 5, 0], [0, 0, 0, 0, 0, 0, 0, 7, 4], [0, 0, 5, 2, 0, 6, 3, 0, 0]]\n"
     ]
    }
   ],
   "source": [
    "sudokuProblem = [[3, 0, 6, 5, 0, 8, 4, 0, 0], \n",
    "          [5, 2, 0, 0, 0, 0, 0, 0, 0], \n",
    "          [0, 8, 7, 0, 0, 0, 0, 3, 1], \n",
    "          [0, 0, 3, 0, 1, 0, 0, 8, 0], \n",
    "          [9, 0, 0, 8, 6, 3, 0, 0, 5], \n",
    "          [0, 5, 0, 0, 9, 0, 6, 0, 0], \n",
    "          [1, 3, 0, 0, 0, 0, 2, 5, 0], \n",
    "          [0, 0, 0, 0, 0, 0, 0, 7, 4], \n",
    "          [0, 0, 5, 2, 0, 6, 3, 0, 0]]\n",
    "\n",
    "print(sudokuProblem)"
   ]
  },
  {
   "cell_type": "code",
   "execution_count": 5,
   "metadata": {},
   "outputs": [
    {
     "name": "stdout",
     "output_type": "stream",
     "text": [
      "[[3 0 6 5 0 8 4 0 0]\n",
      " [5 2 0 0 0 0 0 0 0]\n",
      " [0 8 7 0 0 0 0 3 1]\n",
      " [0 0 3 0 1 0 0 8 0]\n",
      " [9 0 0 8 6 3 0 0 5]\n",
      " [0 5 0 0 9 0 6 0 0]\n",
      " [1 3 0 0 0 0 2 5 0]\n",
      " [0 0 0 0 0 0 0 7 4]\n",
      " [0 0 5 2 0 6 3 0 0]]\n"
     ]
    }
   ],
   "source": [
    "from numpy import matrix\n",
    "print(matrix(sudokuProblem))"
   ]
  },
  {
   "cell_type": "code",
   "execution_count": 6,
   "metadata": {},
   "outputs": [],
   "source": [
    "def isValid(y, x, n):\n",
    "    global sudokuProblem\n",
    "    for i in range(9):\n",
    "        if sudokuProblem[y][i] == n:\n",
    "            return False\n",
    "    for j in range(9):\n",
    "        if sudokuProblem[i][x] == n:\n",
    "            return False\n",
    "    \n",
    "    x0 = (x//3)*3\n",
    "    y0 = (y//3)*3\n",
    "    for i in range(0,3):\n",
    "        for j in range(0,3):\n",
    "            if sudokuProblem[y0+i][x0+j] == n:\n",
    "                return False\n",
    "    return True\n"
   ]
  },
  {
   "cell_type": "code",
   "execution_count": 7,
   "metadata": {},
   "outputs": [],
   "source": [
    "def sudokuSolver():\n",
    "    global sudokuProblem\n",
    "    for y in range(9):\n",
    "        for x in range(9):\n",
    "            if sudokuProblem[y][x] == 0:\n",
    "                for n in range(1,10):\n",
    "                    if isValid(y,x,n):\n",
    "                        sudokuProblem[y][x] = n\n",
    "                        sudokuSolver()\n",
    "                        sudokuProblem[y][x] = 0\n",
    "                return\n",
    "    print(matrix(sudokuProblem))\n",
    "    input()"
   ]
  },
  {
   "cell_type": "code",
   "execution_count": null,
   "metadata": {},
   "outputs": [
    {
     "name": "stdout",
     "output_type": "stream",
     "text": [
      "[[3 1 6 5 7 8 4 2 9]\n",
      " [5 2 4 1 3 9 6 7 8]\n",
      " [9 8 7 4 6 2 5 3 1]\n",
      " [2 6 3 4 1 5 7 8 9]\n",
      " [9 1 7 8 6 3 2 4 5]\n",
      " [4 5 8 7 9 2 6 1 3]\n",
      " [1 3 4 7 8 9 2 5 6]\n",
      " [2 6 8 1 3 5 9 7 4]\n",
      " [7 9 5 2 4 6 3 1 8]]\n"
     ]
    }
   ],
   "source": [
    "sudokuSolver()"
   ]
  },
  {
   "cell_type": "code",
   "execution_count": null,
   "metadata": {},
   "outputs": [],
   "source": []
  }
 ],
 "metadata": {
  "kernelspec": {
   "display_name": "Python 3",
   "language": "python",
   "name": "python3"
  },
  "language_info": {
   "codemirror_mode": {
    "name": "ipython",
    "version": 3
   },
   "file_extension": ".py",
   "mimetype": "text/x-python",
   "name": "python",
   "nbconvert_exporter": "python",
   "pygments_lexer": "ipython3",
   "version": "3.7.4"
  }
 },
 "nbformat": 4,
 "nbformat_minor": 2
}

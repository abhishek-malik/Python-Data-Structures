{
 "cells": [
  {
   "cell_type": "code",
   "execution_count": 42,
   "metadata": {},
   "outputs": [],
   "source": [
    "#single for loop to recursion\n",
    "def recursivePrint(m, n):\n",
    "    if(m >= n):\n",
    "        return\n",
    "    \n",
    "    print(m,end=' ')\n",
    "    recursivePrint(m+1,n)\n",
    "\n",
    "def iterativePrint(n):\n",
    "    for x in range(n):\n",
    "        print(x, end = ' ')"
   ]
  },
  {
   "cell_type": "code",
   "execution_count": 43,
   "metadata": {},
   "outputs": [
    {
     "name": "stdout",
     "output_type": "stream",
     "text": [
      "Iterative Print\n",
      "0 1 2 3 4 5 6 7 8 9 \n",
      "Recursive Print\n",
      "0 1 2 3 4 5 6 7 8 9 "
     ]
    }
   ],
   "source": [
    "print(\"Iterative Print\")\n",
    "iterativePrint(10)\n",
    "\n",
    "print(\"\\nRecursive Print\")\n",
    "recursivePrint(0,10)"
   ]
  },
  {
   "cell_type": "code",
   "execution_count": 44,
   "metadata": {},
   "outputs": [],
   "source": [
    "#double for loop to recursion\n",
    "def recursivePrint(m, n, sizem, sizen):\n",
    "    if m >= sizem or n > sizen:\n",
    "        return\n",
    "    \n",
    "    elif n == sizen:\n",
    "        recursivePrint(m+1,0,sizem,sizen)\n",
    "    \n",
    "    else:\n",
    "        print(\"(\",m, n, \")\",end = ' ')\n",
    "        recursivePrint(m,n+1,sizem,sizen)\n",
    "\n",
    "def iterativePrint(m, n):\n",
    "    for x in range(m):\n",
    "        for y in range(n):\n",
    "            print(\"(\",x, y, \")\",end = ' ')"
   ]
  },
  {
   "cell_type": "code",
   "execution_count": 45,
   "metadata": {},
   "outputs": [
    {
     "name": "stdout",
     "output_type": "stream",
     "text": [
      "Iterative Print\n",
      "( 0 0 ) ( 0 1 ) ( 0 2 ) ( 0 3 ) ( 0 4 ) ( 0 5 ) ( 0 6 ) ( 0 7 ) ( 0 8 ) ( 0 9 ) ( 1 0 ) ( 1 1 ) ( 1 2 ) ( 1 3 ) ( 1 4 ) ( 1 5 ) ( 1 6 ) ( 1 7 ) ( 1 8 ) ( 1 9 ) ( 2 0 ) ( 2 1 ) ( 2 2 ) ( 2 3 ) ( 2 4 ) ( 2 5 ) ( 2 6 ) ( 2 7 ) ( 2 8 ) ( 2 9 ) ( 3 0 ) ( 3 1 ) ( 3 2 ) ( 3 3 ) ( 3 4 ) ( 3 5 ) ( 3 6 ) ( 3 7 ) ( 3 8 ) ( 3 9 ) ( 4 0 ) ( 4 1 ) ( 4 2 ) ( 4 3 ) ( 4 4 ) ( 4 5 ) ( 4 6 ) ( 4 7 ) ( 4 8 ) ( 4 9 ) ( 5 0 ) ( 5 1 ) ( 5 2 ) ( 5 3 ) ( 5 4 ) ( 5 5 ) ( 5 6 ) ( 5 7 ) ( 5 8 ) ( 5 9 ) ( 6 0 ) ( 6 1 ) ( 6 2 ) ( 6 3 ) ( 6 4 ) ( 6 5 ) ( 6 6 ) ( 6 7 ) ( 6 8 ) ( 6 9 ) ( 7 0 ) ( 7 1 ) ( 7 2 ) ( 7 3 ) ( 7 4 ) ( 7 5 ) ( 7 6 ) ( 7 7 ) ( 7 8 ) ( 7 9 ) ( 8 0 ) ( 8 1 ) ( 8 2 ) ( 8 3 ) ( 8 4 ) ( 8 5 ) ( 8 6 ) ( 8 7 ) ( 8 8 ) ( 8 9 ) ( 9 0 ) ( 9 1 ) ( 9 2 ) ( 9 3 ) ( 9 4 ) ( 9 5 ) ( 9 6 ) ( 9 7 ) ( 9 8 ) ( 9 9 ) \n",
      "Recursive Print\n",
      "( 0 0 ) ( 0 1 ) ( 0 2 ) ( 0 3 ) ( 0 4 ) ( 0 5 ) ( 0 6 ) ( 0 7 ) ( 0 8 ) ( 0 9 ) ( 1 0 ) ( 1 1 ) ( 1 2 ) ( 1 3 ) ( 1 4 ) ( 1 5 ) ( 1 6 ) ( 1 7 ) ( 1 8 ) ( 1 9 ) ( 2 0 ) ( 2 1 ) ( 2 2 ) ( 2 3 ) ( 2 4 ) ( 2 5 ) ( 2 6 ) ( 2 7 ) ( 2 8 ) ( 2 9 ) ( 3 0 ) ( 3 1 ) ( 3 2 ) ( 3 3 ) ( 3 4 ) ( 3 5 ) ( 3 6 ) ( 3 7 ) ( 3 8 ) ( 3 9 ) ( 4 0 ) ( 4 1 ) ( 4 2 ) ( 4 3 ) ( 4 4 ) ( 4 5 ) ( 4 6 ) ( 4 7 ) ( 4 8 ) ( 4 9 ) ( 5 0 ) ( 5 1 ) ( 5 2 ) ( 5 3 ) ( 5 4 ) ( 5 5 ) ( 5 6 ) ( 5 7 ) ( 5 8 ) ( 5 9 ) ( 6 0 ) ( 6 1 ) ( 6 2 ) ( 6 3 ) ( 6 4 ) ( 6 5 ) ( 6 6 ) ( 6 7 ) ( 6 8 ) ( 6 9 ) ( 7 0 ) ( 7 1 ) ( 7 2 ) ( 7 3 ) ( 7 4 ) ( 7 5 ) ( 7 6 ) ( 7 7 ) ( 7 8 ) ( 7 9 ) ( 8 0 ) ( 8 1 ) ( 8 2 ) ( 8 3 ) ( 8 4 ) ( 8 5 ) ( 8 6 ) ( 8 7 ) ( 8 8 ) ( 8 9 ) ( 9 0 ) ( 9 1 ) ( 9 2 ) ( 9 3 ) ( 9 4 ) ( 9 5 ) ( 9 6 ) ( 9 7 ) ( 9 8 ) ( 9 9 ) "
     ]
    }
   ],
   "source": [
    "print(\"Iterative Print\")\n",
    "iterativePrint(10,10)\n",
    "\n",
    "print(\"\\nRecursive Print\")\n",
    "recursivePrint(0,0,10,10)"
   ]
  },
  {
   "cell_type": "code",
   "execution_count": 85,
   "metadata": {},
   "outputs": [],
   "source": [
    "#knight's tour problem\n",
    "from numpy import matrix\n",
    "def createBoardAndMovements(n):\n",
    "    board = [[-1 for x in range(n)]for x in range(n)]\n",
    "#     x_moves = [2, 1, -1, -2, -2, -1, 1, 2]\n",
    "#     y_moves = [1, 2, 2, 1, -1, -2, -2, -1]\n",
    "    knight_movements = [[2,1],[1,2],[-1,2],[-2,1],[-2,-1],[-1,-2],[1,-2],[2,-1]]\n",
    "#     print(matrix(board))\n",
    "    return board, knight_movements"
   ]
  },
  {
   "cell_type": "code",
   "execution_count": 86,
   "metadata": {},
   "outputs": [],
   "source": [
    "board, movements = createBoardAndMovements(5)\n",
    "x, y = 0, 0\n",
    "board[0][0] = 0\n",
    "pos = 1"
   ]
  },
  {
   "cell_type": "code",
   "execution_count": 87,
   "metadata": {},
   "outputs": [],
   "source": [
    "def isMoveSafe(n, x, y, board):\n",
    "    if(x >= 0 and y >= 0 and x < n and y < n and board[x][y] == -1):\n",
    "        return True\n",
    "    else:\n",
    "        return False"
   ]
  },
  {
   "cell_type": "code",
   "execution_count": 88,
   "metadata": {},
   "outputs": [],
   "source": [
    "def knightsTour(n,x,y,movements,board,pos):\n",
    "    if pos == n**2:\n",
    "        return True\n",
    "\n",
    "    for i in movements:\n",
    "        x_move = i[0]\n",
    "        y_move = i[1]\n",
    "        if isMoveSafe(n,x+x_move,y+y_move,board):\n",
    "            board[x+x_move][y+y_move] = pos\n",
    "            if knightsTour(n,x+x_move,y+y_move,movements,board,pos+1):\n",
    "                return True\n",
    "                \n",
    "            board[x+x_move][y+y_move] = -1\n",
    "    return False"
   ]
  },
  {
   "cell_type": "code",
   "execution_count": 89,
   "metadata": {},
   "outputs": [
    {
     "data": {
      "text/plain": [
       "True"
      ]
     },
     "execution_count": 89,
     "metadata": {},
     "output_type": "execute_result"
    }
   ],
   "source": [
    "knightsTour(5,0,0,movements,board,1)"
   ]
  },
  {
   "cell_type": "code",
   "execution_count": 90,
   "metadata": {},
   "outputs": [
    {
     "name": "stdout",
     "output_type": "stream",
     "text": [
      "[[ 0  5 14  9 20]\n",
      " [13  8 19  4 15]\n",
      " [18  1  6 21 10]\n",
      " [ 7 12 23 16  3]\n",
      " [24 17  2 11 22]]\n"
     ]
    }
   ],
   "source": [
    "print(matrix(board))"
   ]
  },
  {
   "cell_type": "code",
   "execution_count": 32,
   "metadata": {},
   "outputs": [],
   "source": [
    "#N-Queens problem\n",
    "def isValidPos(n, x, y, board):\n",
    "#     for i in range(y):\n",
    "#         if board[i][y] != -1:\n",
    "#             return False\n",
    "    for j in range(y):\n",
    "        if board[x][j] != -1:\n",
    "            return False \n",
    "    \n",
    "#     checking for upper diagonal\n",
    "    for i,j in zip(range(x,-1,-1),range(y,-1,-1)):\n",
    "        if board[i][j] != -1:\n",
    "            return False\n",
    "    \n",
    "#     checking for lower diagonal\n",
    "    for i,j in zip(range(x,n,1),range(y,-1,-1)):\n",
    "        if board[i][j] != -1:\n",
    "            return False\n",
    "    \n",
    "    return True"
   ]
  },
  {
   "cell_type": "code",
   "execution_count": 36,
   "metadata": {},
   "outputs": [],
   "source": [
    "def nQueens(n, y, board, pos):\n",
    "    if pos > n:\n",
    "        return True\n",
    "    for x in range(n):\n",
    "        if isValidPos(n,x,y,board):\n",
    "            board[x][y] = pos\n",
    "            if nQueens(n, y+1, board, pos+1):\n",
    "                return True\n",
    "            \n",
    "            board[x][y] = -1\n",
    "    return False"
   ]
  },
  {
   "cell_type": "code",
   "execution_count": 37,
   "metadata": {},
   "outputs": [
    {
     "name": "stdout",
     "output_type": "stream",
     "text": [
      "[[-1 -1  3 -1]\n",
      " [ 1 -1 -1 -1]\n",
      " [-1 -1 -1  4]\n",
      " [-1  2 -1 -1]]\n"
     ]
    }
   ],
   "source": [
    "from numpy import matrix\n",
    "def createBoard(n):\n",
    "    return [[-1 for x in range(n)]for x in range(n)]\n",
    "board = createBoard(4)    \n",
    "pos = 1\n",
    "nQueens(4,0,board,pos)\n",
    "print(matrix(board))"
   ]
  },
  {
   "cell_type": "code",
   "execution_count": 1,
   "metadata": {},
   "outputs": [],
   "source": [
    "#sudoku solver\n",
    "def isVaildNum(n, xpos, ypos, num, board):\n",
    "    #not in same row\n",
    "    for x in range(n):\n",
    "        if board[x][ypos] == num:\n",
    "            return False\n",
    "        \n",
    "    #not in same column\n",
    "    for y in range(n):\n",
    "        if board[xpos][y] == num:\n",
    "            return False\n",
    "    \n",
    "    #not is same sub-box\n",
    "    #coordinates for which sub-box to look\n",
    "    x0 = (xpos//3)*3\n",
    "    y0 = (ypos//3)*3\n",
    "    for x in range(3):\n",
    "        for y in range(3):\n",
    "            if board[x+x0][y+y0] == num:\n",
    "                return False\n",
    "    \n",
    "    return True"
   ]
  },
  {
   "cell_type": "code",
   "execution_count": 2,
   "metadata": {},
   "outputs": [],
   "source": [
    "def sudokuSolver(n, board):\n",
    "    for x in range(n):\n",
    "        for y in range(n):\n",
    "            if board[x][y] == 0:\n",
    "                for num in range(1,10):\n",
    "                    if isVaildNum(n,x,y,num,board):\n",
    "                        board[x][y] = num\n",
    "                        if sudokuSolver(n, board):\n",
    "                            return True\n",
    "                        \n",
    "                        board[x][y] = 0\n",
    "    return False"
   ]
  },
  {
   "cell_type": "code",
   "execution_count": 3,
   "metadata": {},
   "outputs": [],
   "source": [
    "board = [[3, 0, 6, 5, 0, 8, 4, 0, 0], \n",
    "          [5, 2, 0, 0, 0, 0, 0, 0, 0], \n",
    "          [0, 8, 7, 0, 0, 0, 0, 3, 1], \n",
    "          [0, 0, 3, 0, 1, 0, 0, 8, 0], \n",
    "          [9, 0, 0, 8, 6, 3, 0, 0, 5], \n",
    "          [0, 5, 0, 0, 9, 0, 6, 0, 0], \n",
    "          [1, 3, 0, 0, 0, 0, 2, 5, 0], \n",
    "          [0, 0, 0, 0, 0, 0, 0, 7, 4], \n",
    "          [0, 0, 5, 2, 0, 6, 3, 0, 0]] \n",
    "n = 9\n",
    "sudokuSolver(n,board)"
   ]
  },
  {
   "cell_type": "code",
   "execution_count": 4,
   "metadata": {},
   "outputs": [
    {
     "name": "stdout",
     "output_type": "stream",
     "text": [
      "[[3 0 6 5 0 8 4 0 0]\n",
      " [5 2 0 0 0 0 0 0 0]\n",
      " [0 8 7 0 0 0 0 3 1]\n",
      " [0 0 3 0 1 0 0 8 0]\n",
      " [9 0 0 8 6 3 0 0 5]\n",
      " [0 5 0 0 9 0 6 0 0]\n",
      " [1 3 0 0 0 0 2 5 0]\n",
      " [0 0 0 0 0 0 0 7 4]\n",
      " [0 0 5 2 0 6 3 0 0]]\n"
     ]
    }
   ],
   "source": [
    "from numpy import matrix\n",
    "print(matrix(board))"
   ]
  },
  {
   "cell_type": "code",
   "execution_count": null,
   "metadata": {},
   "outputs": [],
   "source": []
  }
 ],
 "metadata": {
  "kernelspec": {
   "display_name": "Python 3",
   "language": "python",
   "name": "python3"
  },
  "language_info": {
   "codemirror_mode": {
    "name": "ipython",
    "version": 3
   },
   "file_extension": ".py",
   "mimetype": "text/x-python",
   "name": "python",
   "nbconvert_exporter": "python",
   "pygments_lexer": "ipython3",
   "version": "3.7.4"
  }
 },
 "nbformat": 4,
 "nbformat_minor": 2
}

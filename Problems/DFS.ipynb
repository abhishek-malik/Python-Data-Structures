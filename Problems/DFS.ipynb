{
 "cells": [
  {
   "cell_type": "code",
   "execution_count": 3,
   "metadata": {},
   "outputs": [
    {
     "name": "stdout",
     "output_type": "stream",
     "text": [
      "['A', 'B', 'E', 'F', 'C', 'D', 'G']\n",
      "['A', 'B', 'C', 'D', 'E', 'F', 'G']\n"
     ]
    }
   ],
   "source": [
    "#DFS\n",
    "class Node:\n",
    "    def __init__(self, name):\n",
    "        self.name = name\n",
    "        self.children = []\n",
    "    \n",
    "    def addChild(self, name):\n",
    "        self.children.append(Node(name))\n",
    "        return self.children[len(self.children)-1]\n",
    "    \n",
    "    def depthFirstSearch(self, dfsList):\n",
    "        dfsList.append(self.name)\n",
    "        for x in self.children:\n",
    "            x.depthFirstSearch(dfsList)\n",
    "        return dfsList\n",
    "    \n",
    "    def breadthFirstSearch(self, bfsList):\n",
    "        #using queue\n",
    "        bfsQueue = [self]\n",
    "        \n",
    "        while len(bfsQueue) > 0 :\n",
    "            popElem = bfsQueue.pop(0)\n",
    "            bfsList.append(popElem.name)\n",
    "            for x in popElem.children:\n",
    "                bfsQueue.append(x)\n",
    "        \n",
    "        return bfsList\n",
    "\n",
    "root = Node('A')\n",
    "firstChild = root.addChild('B')\n",
    "secondChild = root.addChild('C')\n",
    "thirdChild = root.addChild('D')\n",
    "\n",
    "firstChild.addChild('E')\n",
    "firstChild.addChild('F')\n",
    "thirdChild.addChild('G')\n",
    "\n",
    "print(root.depthFirstSearch([]))\n",
    "print(root.breadthFirstSearch([]))"
   ]
  },
  {
   "cell_type": "code",
   "execution_count": null,
   "metadata": {},
   "outputs": [],
   "source": []
  }
 ],
 "metadata": {
  "kernelspec": {
   "display_name": "Python 3",
   "language": "python",
   "name": "python3"
  },
  "language_info": {
   "codemirror_mode": {
    "name": "ipython",
    "version": 3
   },
   "file_extension": ".py",
   "mimetype": "text/x-python",
   "name": "python",
   "nbconvert_exporter": "python",
   "pygments_lexer": "ipython3",
   "version": "3.7.4"
  }
 },
 "nbformat": 4,
 "nbformat_minor": 2
}

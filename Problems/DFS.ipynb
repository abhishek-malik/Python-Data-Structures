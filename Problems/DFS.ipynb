{
 "cells": [
  {
   "cell_type": "code",
   "execution_count": 11,
   "metadata": {},
   "outputs": [
    {
     "name": "stdout",
     "output_type": "stream",
     "text": [
      "['A', 'B', 'E', 'F', 'C', 'D', 'G']\n",
      "['A', 'B', 'C', 'D', 'E', 'F', 'G']\n"
     ]
    }
   ],
   "source": [
    "#DFS\n",
    "class Node:\n",
    "    def __init__(self, name):\n",
    "        self.name = name\n",
    "        self.children = []\n",
    "    \n",
    "    def addChild(self, name):\n",
    "        self.children.append(Node(name))\n",
    "        return self.children[len(self.children)-1]\n",
    "    \n",
    "    def depthFirstSearch(self, dfsList):\n",
    "        dfsList.append(self.name)\n",
    "        for x in self.children:\n",
    "            x.depthFirstSearch(dfsList)\n",
    "        return dfsList\n",
    "    \n",
    "    def breadthFirstSearch(self, bfsList):\n",
    "        #will not work change this to queue\n",
    "        bfsNodeList = []\n",
    "        bfsList.append(self.name)\n",
    "        counter = 0\n",
    "        for y in self.children:\n",
    "            bfsNodeList.append(y)\n",
    "            bfsList.append(y.name)\n",
    "        for x in bfsNodeList:\n",
    "            for y in x.children:\n",
    "                bfsNodeList.append(y)\n",
    "                bfsList.append(y.name)\n",
    "        counter += 1\n",
    "        return bfsList\n",
    "\n",
    "root = Node('A')\n",
    "firstChild = root.addChild('B')\n",
    "secondChild = root.addChild('C')\n",
    "thirdChild = root.addChild('D')\n",
    "\n",
    "firstChild.addChild('E')\n",
    "firstChild.addChild('F')\n",
    "thirdChild.addChild('G')\n",
    "\n",
    "print(root.depthFirstSearch([]))\n",
    "print(root.breadthFirstSearch([]))"
   ]
  },
  {
   "cell_type": "code",
   "execution_count": null,
   "metadata": {},
   "outputs": [],
   "source": []
  }
 ],
 "metadata": {
  "kernelspec": {
   "display_name": "Python 3",
   "language": "python",
   "name": "python3"
  },
  "language_info": {
   "codemirror_mode": {
    "name": "ipython",
    "version": 3
   },
   "file_extension": ".py",
   "mimetype": "text/x-python",
   "name": "python",
   "nbconvert_exporter": "python",
   "pygments_lexer": "ipython3",
   "version": "3.7.4"
  }
 },
 "nbformat": 4,
 "nbformat_minor": 2
}

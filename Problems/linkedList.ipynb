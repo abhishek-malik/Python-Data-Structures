{
 "cells": [
  {
   "cell_type": "code",
   "execution_count": null,
   "metadata": {},
   "outputs": [],
   "source": [
    "class DoublyLinkedList:\n",
    "    def __init__(self):\n",
    "        self.next = None\n",
    "        self.prev = None\n",
    "        \n",
    "    def setHead(self, node):\n",
    "        pass\n",
    "    \n",
    "    def setTail(self, node):\n",
    "        pass\n",
    "    \n",
    "    def insertBefore(self, node, nodeToInsert):\n",
    "        pass\n",
    "    \n",
    "    def insertAfter(self, node, nodeToInsert):\n",
    "        pass\n",
    "    \n",
    "    def removeNodesWithValue(self, value):\n",
    "        pass\n",
    "    \n",
    "    def remove(self, node):\n",
    "        pass\n",
    "    \n",
    "    def containsNodeWithValue(self, value):\n",
    "        pass"
   ]
  }
 ],
 "metadata": {
  "kernelspec": {
   "display_name": "Python 3",
   "language": "python",
   "name": "python3"
  },
  "language_info": {
   "codemirror_mode": {
    "name": "ipython",
    "version": 3
   },
   "file_extension": ".py",
   "mimetype": "text/x-python",
   "name": "python",
   "nbconvert_exporter": "python",
   "pygments_lexer": "ipython3",
   "version": "3.7.4"
  }
 },
 "nbformat": 4,
 "nbformat_minor": 2
}

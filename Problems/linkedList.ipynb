{
 "cells": [
  {
   "cell_type": "code",
   "execution_count": 51,
   "metadata": {},
   "outputs": [],
   "source": [
    "class DoublyLinkedList:\n",
    "    def __init__(self, value):\n",
    "        self.value = value\n",
    "        self.next = None\n",
    "        self.prev = None\n",
    "        \n",
    "#     def setHead(self, node):\n",
    "#         pass\n",
    "    \n",
    "#     def setTail(self, node):\n",
    "#         pass\n",
    "    \n",
    "    def insertBefore(self, node, nodeToInsert):\n",
    "        if(node.prev is None):\n",
    "            node.prev = nodeToInsert\n",
    "            nodeToInsert.next = node\n",
    "            head = nodeToInsert\n",
    "#             print(nodeToInsert.value)\n",
    "#             print(nodeToInsert.next.value)\n",
    "            return True\n",
    "            \n",
    "        else:\n",
    "            while(self is not node):\n",
    "                self = self.next\n",
    "                if(self is None):\n",
    "                    return False\n",
    "                \n",
    "            nodeToInsert.next = self.prev.next\n",
    "            self.prev.next = nodeToInsert\n",
    "            nodeToInsert.prev = self.prev\n",
    "            self.prev = nodeToInsert\n",
    "            return True\n",
    "            \n",
    "#             print(nodeToInsert.prev.value)\n",
    "#             print(nodeToInsert.value)\n",
    "#             print(nodeToInsert.next.value)\n",
    "            \n",
    "    def insertAfter(self, node, nodeToInsert):\n",
    "        if(node.next is None):\n",
    "            node.next = nodeToInsert\n",
    "            nodeToInsert.prev = node\n",
    "            tail = nodeToInsert\n",
    "            return True\n",
    "        \n",
    "        else:\n",
    "            while(self is not node):\n",
    "                self = self.next \n",
    "                if(self is None):\n",
    "                    return False\n",
    "                \n",
    "            nodeToInsert.next = self.next\n",
    "            self.next.prev = nodeToInsert\n",
    "            nodeToInsert.prev = self\n",
    "            self.next = nodeToInsert\n",
    "            return True\n",
    "    \n",
    "    def removeNodesWithValue(self, value):\n",
    "        pass\n",
    "    \n",
    "    def remove(self, node):\n",
    "        if(node.next is None):\n",
    "            tail = node.prev.next\n",
    "            node.prev.next = None\n",
    "            del(node)\n",
    "            return True\n",
    "        \n",
    "        elif(node.prev is None):\n",
    "            head = node.next\n",
    "            node.next.prev = None\n",
    "            del(node)\n",
    "            return True\n",
    "\n",
    "    def containsNodeWithValue(self, val):\n",
    "        if self.next is None and self.value != val:\n",
    "            return False\n",
    "        if self.value == val:\n",
    "            return True\n",
    "        return self.next.containsNodeWithValue(val)\n",
    "    \n",
    "#     TODO : print function for linked list\n",
    "    def printLinkedList(self):\n",
    "        while(self is not None):\n",
    "            print(self.value, end = ' ')\n",
    "            self = self.next\n",
    "        print(\"\\n\")"
   ]
  },
  {
   "cell_type": "code",
   "execution_count": 52,
   "metadata": {},
   "outputs": [],
   "source": [
    "a = DoublyLinkedList(2)\n",
    "b = DoublyLinkedList(3)\n",
    "c = DoublyLinkedList(5)\n",
    "d = DoublyLinkedList(7)\n",
    "head = a\n",
    "tail = d"
   ]
  },
  {
   "cell_type": "code",
   "execution_count": 53,
   "metadata": {},
   "outputs": [
    {
     "name": "stdout",
     "output_type": "stream",
     "text": [
      "True\n"
     ]
    }
   ],
   "source": [
    "a.next = b\n",
    "b.prev = a\n",
    "b.next = c\n",
    "c.prev = b\n",
    "c.next = d\n",
    "d.prev = c\n",
    "\n",
    "\n",
    "print(head.containsNodeWithValue(5))"
   ]
  },
  {
   "cell_type": "code",
   "execution_count": 54,
   "metadata": {},
   "outputs": [
    {
     "name": "stdout",
     "output_type": "stream",
     "text": [
      "2 3 5 7 \n",
      "\n",
      "2 3 11 5 7 \n",
      "\n"
     ]
    }
   ],
   "source": [
    "e = DoublyLinkedList(11)\n",
    "head.printLinkedList()\n",
    "if(head.insertBefore(c,e)):\n",
    "    head.printLinkedList()"
   ]
  },
  {
   "cell_type": "code",
   "execution_count": 55,
   "metadata": {},
   "outputs": [
    {
     "name": "stdout",
     "output_type": "stream",
     "text": [
      "2 3 11 5 7 \n",
      "\n",
      "2 13 3 11 5 7 \n",
      "\n"
     ]
    }
   ],
   "source": [
    "f = DoublyLinkedList(13)\n",
    "head.printLinkedList()\n",
    "if(head.insertAfter(a,f)):\n",
    "    head.printLinkedList()"
   ]
  },
  {
   "cell_type": "code",
   "execution_count": 56,
   "metadata": {},
   "outputs": [
    {
     "name": "stdout",
     "output_type": "stream",
     "text": [
      "2 13 3 11 5 7 \n",
      "\n",
      "2 13 3 11 5 7 \n",
      "\n"
     ]
    }
   ],
   "source": [
    "head.printLinkedList()\n",
    "if(head.remove(a)):\n",
    "    head.printLinkedList()"
   ]
  },
  {
   "cell_type": "code",
   "execution_count": null,
   "metadata": {},
   "outputs": [],
   "source": []
  }
 ],
 "metadata": {
  "kernelspec": {
   "display_name": "Python 3",
   "language": "python",
   "name": "python3"
  },
  "language_info": {
   "codemirror_mode": {
    "name": "ipython",
    "version": 3
   },
   "file_extension": ".py",
   "mimetype": "text/x-python",
   "name": "python",
   "nbconvert_exporter": "python",
   "pygments_lexer": "ipython3",
   "version": "3.7.4"
  }
 },
 "nbformat": 4,
 "nbformat_minor": 2
}

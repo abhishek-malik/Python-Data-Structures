{
 "cells": [
  {
   "cell_type": "code",
   "execution_count": 66,
   "metadata": {},
   "outputs": [],
   "source": [
    "class Node:\n",
    "    def __init__(self, value):\n",
    "        self.value = value\n",
    "        self.prev = None\n",
    "        self.next = None\n",
    "        \n",
    "class DoublyLinkedList:\n",
    "    def __init__(self):\n",
    "        self.head = None\n",
    "        self.tail = None\n",
    "        \n",
    "#     def setHead(self, node):\n",
    "#         pass\n",
    "    \n",
    "#     def setTail(self, node):\n",
    "#         pass\n",
    "\n",
    "    def createLinkedList(self, item):\n",
    "        if self.head is None:\n",
    "            self.head = item\n",
    "            self.tail = item\n",
    "        else:\n",
    "            self.tail.next = item\n",
    "            item.prev = self.tail\n",
    "            self.tail = item\n",
    "    \n",
    "    def insertBefore(self, node, nodeToInsert):\n",
    "        item = self.head\n",
    "        if(node.prev is None):\n",
    "            nodeToInsert.next = item\n",
    "            item.prev = nodeToInsert\n",
    "            self.head = nodeToInsert\n",
    "#             print(nodeToInsert.value)\n",
    "#             print(nodeToInsert.next.value)\n",
    "            return True\n",
    "            \n",
    "        else:\n",
    "            while(item is not node):\n",
    "                item = item.next\n",
    "                if(item is None):\n",
    "                    return False\n",
    "                \n",
    "            nodeToInsert.next = item.prev.next\n",
    "            item.prev.next = nodeToInsert\n",
    "            nodeToInsert.prev = item.prev\n",
    "            item.prev = nodeToInsert\n",
    "            return True\n",
    "            \n",
    "#             print(nodeToInsert.prev.value)\n",
    "#             print(nodeToInsert.value)\n",
    "#             print(nodeToInsert.next.value)\n",
    "            \n",
    "    def insertAfter(self, node, nodeToInsert):\n",
    "        item = self.head\n",
    "        if(node.next is None):\n",
    "            node.next = nodeToInsert\n",
    "            nodeToInsert.prev = node\n",
    "            self.tail = nodeToInsert\n",
    "            return True\n",
    "        \n",
    "        else:\n",
    "            while(item is not node):\n",
    "                item = item.next \n",
    "                if(item is None):\n",
    "                    return False\n",
    "                \n",
    "            nodeToInsert.next = item.next\n",
    "            item.next.prev = nodeToInsert\n",
    "            nodeToInsert.prev = item\n",
    "            item.next = nodeToInsert\n",
    "            return True\n",
    "    \n",
    "    def removeNodesWithValue(self, value):\n",
    "        pass\n",
    "    \n",
    "    def remove(self, node):\n",
    "        if(node.next is None):\n",
    "            self.tail = node.prev.next\n",
    "            node.prev.next = None\n",
    "            del(node)\n",
    "            return True\n",
    "        \n",
    "        elif(node.prev is None):\n",
    "            self.head = node.next\n",
    "            node.next.prev = None\n",
    "            del(node)\n",
    "            return True\n",
    "        \n",
    "        else:\n",
    "            item = self.head\n",
    "            while(item is not node):\n",
    "                item = item.next\n",
    "                if(item is none):\n",
    "                    return False\n",
    "            \n",
    "\n",
    "    def containsNodeWithValue(self, val):\n",
    "        item = self.head\n",
    "        while item is not None:\n",
    "            if item.next is None and item.value != val:\n",
    "                return False\n",
    "            elif item.value == val:\n",
    "                return True\n",
    "            item = item.next\n",
    "        \n",
    "#     TODO : print function for linked list\n",
    "    def printLinkedList(self):\n",
    "        item = self.head\n",
    "        while(item is not None):\n",
    "            print(item.value, end = ' ')\n",
    "            item = item.next\n",
    "        print(\"\\n\")"
   ]
  },
  {
   "cell_type": "code",
   "execution_count": 67,
   "metadata": {},
   "outputs": [
    {
     "name": "stdout",
     "output_type": "stream",
     "text": [
      "2 3 5 7 \n",
      "\n",
      "2\n",
      "7\n"
     ]
    }
   ],
   "source": [
    "a = Node(2)\n",
    "b = Node(3)\n",
    "c = Node(5)\n",
    "d = Node(7)\n",
    "\n",
    "ll = DoublyLinkedList()\n",
    "for item in [a,b,c,d]:\n",
    "    ll.createLinkedList(item)\n",
    "ll.printLinkedList()\n",
    "print(ll.head.value)\n",
    "print(ll.tail.value)"
   ]
  },
  {
   "cell_type": "code",
   "execution_count": 68,
   "metadata": {},
   "outputs": [
    {
     "name": "stdout",
     "output_type": "stream",
     "text": [
      "True\n"
     ]
    }
   ],
   "source": [
    "print(ll.containsNodeWithValue(5))"
   ]
  },
  {
   "cell_type": "code",
   "execution_count": 69,
   "metadata": {},
   "outputs": [
    {
     "name": "stdout",
     "output_type": "stream",
     "text": [
      "2 3 5 7 \n",
      "\n",
      "11 2 3 5 7 \n",
      "\n",
      "11\n"
     ]
    }
   ],
   "source": [
    "e = Node(11)\n",
    "ll.printLinkedList()\n",
    "if(ll.insertBefore(a,e)):\n",
    "    ll.printLinkedList()\n",
    "print(ll.head.value)"
   ]
  },
  {
   "cell_type": "code",
   "execution_count": 70,
   "metadata": {},
   "outputs": [
    {
     "name": "stdout",
     "output_type": "stream",
     "text": [
      "11 2 3 5 7 \n",
      "\n",
      "11 2 13 3 5 7 \n",
      "\n",
      "7\n"
     ]
    }
   ],
   "source": [
    "f = Node(13)\n",
    "ll.printLinkedList()\n",
    "if(ll.insertAfter(a,f)):\n",
    "    ll.printLinkedList()\n",
    "print(ll.tail.value)"
   ]
  },
  {
   "cell_type": "code",
   "execution_count": 71,
   "metadata": {},
   "outputs": [
    {
     "name": "stdout",
     "output_type": "stream",
     "text": [
      "11 2 13 3 5 7 \n",
      "\n",
      "2 13 3 5 7 \n",
      "\n"
     ]
    }
   ],
   "source": [
    "ll.printLinkedList()\n",
    "if(ll.remove(e)):\n",
    "    ll.printLinkedList()"
   ]
  },
  {
   "cell_type": "code",
   "execution_count": null,
   "metadata": {},
   "outputs": [],
   "source": []
  }
 ],
 "metadata": {
  "kernelspec": {
   "display_name": "Python 3",
   "language": "python",
   "name": "python3"
  },
  "language_info": {
   "codemirror_mode": {
    "name": "ipython",
    "version": 3
   },
   "file_extension": ".py",
   "mimetype": "text/x-python",
   "name": "python",
   "nbconvert_exporter": "python",
   "pygments_lexer": "ipython3",
   "version": "3.7.4"
  }
 },
 "nbformat": 4,
 "nbformat_minor": 2
}

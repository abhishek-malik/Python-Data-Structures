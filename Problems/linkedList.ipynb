{
 "cells": [
  {
   "cell_type": "code",
   "execution_count": 47,
   "metadata": {},
   "outputs": [],
   "source": [
    "class DoublyLinkedList:\n",
    "    def __init__(self, value):\n",
    "        self.value = value\n",
    "        self.next = None\n",
    "        self.prev = None\n",
    "        \n",
    "    def setHead(self, node):\n",
    "        pass\n",
    "    \n",
    "    def setTail(self, node):\n",
    "        pass\n",
    "    \n",
    "    def insertBefore(self, node, nodeToInsert):\n",
    "        pass\n",
    "    \n",
    "    def insertAfter(self, node, nodeToInsert):\n",
    "        pass\n",
    "    \n",
    "    def removeNodesWithValue(self, value):\n",
    "        pass\n",
    "    \n",
    "    def remove(self, node):\n",
    "        pass\n",
    "    \n",
    "    def containsNodeWithValue(self, val):\n",
    "        print(self.value)\n",
    "        if self.next is None and self.value != val:\n",
    "            return False\n",
    "        if self.value == val:\n",
    "            return True\n",
    "        return self.next.containsNodeWithValue(val)"
   ]
  },
  {
   "cell_type": "code",
   "execution_count": 48,
   "metadata": {},
   "outputs": [],
   "source": [
    "head = DoublyLinkedList(2)\n",
    "a = DoublyLinkedList(3)\n",
    "b = DoublyLinkedList(5)\n",
    "tail = DoublyLinkedList(7)"
   ]
  },
  {
   "cell_type": "code",
   "execution_count": 53,
   "metadata": {},
   "outputs": [
    {
     "name": "stdout",
     "output_type": "stream",
     "text": [
      "2\n",
      "True\n"
     ]
    }
   ],
   "source": [
    "head.next = a\n",
    "a.next = b\n",
    "b.next = tail\n",
    "\n",
    "print(head.containsNodeWithValue(7))"
   ]
  },
  {
   "cell_type": "code",
   "execution_count": null,
   "metadata": {},
   "outputs": [],
   "source": []
  }
 ],
 "metadata": {
  "kernelspec": {
   "display_name": "Python 3",
   "language": "python",
   "name": "python3"
  },
  "language_info": {
   "codemirror_mode": {
    "name": "ipython",
    "version": 3
   },
   "file_extension": ".py",
   "mimetype": "text/x-python",
   "name": "python",
   "nbconvert_exporter": "python",
   "pygments_lexer": "ipython3",
   "version": "3.7.4"
  }
 },
 "nbformat": 4,
 "nbformat_minor": 2
}

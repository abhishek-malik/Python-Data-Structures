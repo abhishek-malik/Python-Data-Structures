{
 "cells": [
  {
   "cell_type": "code",
   "execution_count": 76,
   "metadata": {},
   "outputs": [],
   "source": [
    "class DoublyLinkedList:\n",
    "    def __init__(self, value):\n",
    "        self.value = value\n",
    "        self.next = None\n",
    "        self.prev = None\n",
    "        \n",
    "#     def setHead(self, node):\n",
    "#         pass\n",
    "    \n",
    "#     def setTail(self, node):\n",
    "#         pass\n",
    "    \n",
    "    def insertBefore(self, node, nodeToInsert):\n",
    "        if(node.prev is None):\n",
    "            node.prev = nodeToInsert\n",
    "            nodeToInsert.next = node\n",
    "            head = nodeToInsert\n",
    "            print(nodeToInsert.value)\n",
    "            print(nodeToInsert.next.value)\n",
    "            \n",
    "        else:\n",
    "            while(self is not node):\n",
    "                self = self.next\n",
    "                if(self is None):\n",
    "                    return False\n",
    "                \n",
    "            nodeToInsert.next = self.prev.next\n",
    "            self.prev.next = nodeToInsert\n",
    "            nodeToInsert.prev = self.prev\n",
    "            self.prev = nodeToInsert\n",
    "            \n",
    "            print(nodeToInsert.prev.value)\n",
    "            print(nodeToInsert.value)\n",
    "            print(nodeToInsert.next.value)\n",
    "            \n",
    "    def insertAfter(self, node, nodeToInsert):\n",
    "        pass\n",
    "    \n",
    "    def removeNodesWithValue(self, value):\n",
    "        pass\n",
    "    \n",
    "    def remove(self, node):\n",
    "        pass\n",
    "    \n",
    "    def containsNodeWithValue(self, val):\n",
    "        if self.next is None and self.value != val:\n",
    "            return False\n",
    "        if self.value == val:\n",
    "            return True\n",
    "        return self.next.containsNodeWithValue(val)\n",
    "    \n",
    "#     TODO : print function for linked list"
   ]
  },
  {
   "cell_type": "code",
   "execution_count": 77,
   "metadata": {},
   "outputs": [],
   "source": [
    "a = DoublyLinkedList(2)\n",
    "b = DoublyLinkedList(3)\n",
    "c = DoublyLinkedList(5)\n",
    "d = DoublyLinkedList(7)\n",
    "head = a\n",
    "tail = d"
   ]
  },
  {
   "cell_type": "code",
   "execution_count": 78,
   "metadata": {},
   "outputs": [
    {
     "name": "stdout",
     "output_type": "stream",
     "text": [
      "True\n"
     ]
    }
   ],
   "source": [
    "a.next = b\n",
    "b.prev = a\n",
    "b.next = c\n",
    "c.prev = b\n",
    "c.next = d\n",
    "d.prev = c\n",
    "\n",
    "\n",
    "print(head.containsNodeWithValue(5))"
   ]
  },
  {
   "cell_type": "code",
   "execution_count": 79,
   "metadata": {},
   "outputs": [
    {
     "name": "stdout",
     "output_type": "stream",
     "text": [
      "3\n",
      "10\n",
      "5\n"
     ]
    }
   ],
   "source": [
    "e = DoublyLinkedList(10)\n",
    "head.insertBefore(c,e)"
   ]
  },
  {
   "cell_type": "code",
   "execution_count": null,
   "metadata": {},
   "outputs": [],
   "source": []
  }
 ],
 "metadata": {
  "kernelspec": {
   "display_name": "Python 3",
   "language": "python",
   "name": "python3"
  },
  "language_info": {
   "codemirror_mode": {
    "name": "ipython",
    "version": 3
   },
   "file_extension": ".py",
   "mimetype": "text/x-python",
   "name": "python",
   "nbconvert_exporter": "python",
   "pygments_lexer": "ipython3",
   "version": "3.7.4"
  }
 },
 "nbformat": 4,
 "nbformat_minor": 2
}
